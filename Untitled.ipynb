{
 "cells": [
  {
   "cell_type": "code",
   "execution_count": null,
   "id": "72919bb7-1589-4720-868c-c220936f3d71",
   "metadata": {},
   "outputs": [],
   "source": []
  },
  {
   "cell_type": "code",
   "execution_count": null,
   "id": "9497b276-2377-4df8-a8ae-63193935aa61",
   "metadata": {},
   "outputs": [],
   "source": []
  },
  {
   "cell_type": "code",
   "execution_count": null,
   "id": "9756ccce-8b01-4caa-b326-6bb510283893",
   "metadata": {},
   "outputs": [],
   "source": []
  },
  {
   "cell_type": "code",
   "execution_count": null,
   "id": "24b119bd-73a6-4605-bbdf-68080c7f1885",
   "metadata": {},
   "outputs": [],
   "source": []
  },
  {
   "cell_type": "code",
   "execution_count": null,
   "id": "2602b245-e00d-4c29-a574-1d2c6ba72ee6",
   "metadata": {},
   "outputs": [],
   "source": []
  },
  {
   "cell_type": "code",
   "execution_count": null,
   "id": "05a4a8dd-f1d8-47ce-b5c8-4ed94e9ff15d",
   "metadata": {},
   "outputs": [],
   "source": []
  },
  {
   "cell_type": "code",
   "execution_count": null,
   "id": "6bcdd700-c0b7-441d-ae2b-46cfec0afa2c",
   "metadata": {},
   "outputs": [],
   "source": []
  },
  {
   "cell_type": "code",
   "execution_count": null,
   "id": "19110bf6-8d20-4be3-990f-f7cbce352f63",
   "metadata": {},
   "outputs": [],
   "source": []
  },
  {
   "cell_type": "code",
   "execution_count": 1,
   "id": "18295b4e-e9ff-4089-a0fe-5c5b710dab01",
   "metadata": {},
   "outputs": [
    {
     "name": "stdout",
     "output_type": "stream",
     "text": [
      "/Users/lisa/Documents/1 - Uni Online/21-12 Freecodecamp Python4e\n"
     ]
    }
   ],
   "source": [
    "cd .."
   ]
  },
  {
   "cell_type": "code",
   "execution_count": 2,
   "id": "910fc8da-984f-4789-a791-99e732fee9a5",
   "metadata": {},
   "outputs": [
    {
     "name": "stdout",
     "output_type": "stream",
     "text": [
      "=                            ex-09.py\n",
      "Jupyter Notebook 1.ipynb     ex-11-regular-expression.py\n",
      "Untitled.ipynb               ex-12-a-simple-webserver.py\n",
      "Untitled1.ipynb              \u001b[34mp1-arithmetic_arranger\u001b[m\u001b[m/\n",
      "datapoints.csv               \u001b[34mp2-time_calculator\u001b[m\u001b[m/\n",
      "ex-02-04.py                  \u001b[34mpy4e-master-code\u001b[m\u001b[m/\n",
      "ex-05-01.py                  py4e-script.pdf\n",
      "ex-06-05.py                  t-clown.txt\n",
      "ex-07-01.py                  t-intro.txt\n",
      "ex-08.py                     t-mbox-short.txt\n"
     ]
    }
   ],
   "source": [
    "ls"
   ]
  },
  {
   "cell_type": "code",
   "execution_count": null,
   "id": "7ccbc078-28bd-4e5e-947a-c5076eaea0f5",
   "metadata": {},
   "outputs": [],
   "source": []
  }
 ],
 "metadata": {
  "kernelspec": {
   "display_name": "Python 3",
   "language": "python",
   "name": "python3"
  },
  "language_info": {
   "codemirror_mode": {
    "name": "ipython",
    "version": 3
   },
   "file_extension": ".py",
   "mimetype": "text/x-python",
   "name": "python",
   "nbconvert_exporter": "python",
   "pygments_lexer": "ipython3",
   "version": "3.8.8"
  }
 },
 "nbformat": 4,
 "nbformat_minor": 5
}
